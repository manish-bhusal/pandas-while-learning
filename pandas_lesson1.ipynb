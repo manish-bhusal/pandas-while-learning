{
 "cells": [
  {
   "cell_type": "code",
   "execution_count": 1,
   "id": "d00ee093",
   "metadata": {},
   "outputs": [],
   "source": [
    "import pandas as pd\n",
    "import numpy as np"
   ]
  },
  {
   "cell_type": "code",
   "execution_count": 2,
   "id": "f5fa7fcd",
   "metadata": {},
   "outputs": [],
   "source": [
    "dict1 = {\n",
    "    \"name\":[\"John\",\"Emily\",\"Michael\",\"Jessica\",\"David\",\"Ashley\",\"Jacob\",\"Samantha\",\"Ryan\",\"Amanda\"],\n",
    "    \"age\":[25,32,29,24,21,28,35,31,27,26],\n",
    "    \"gender\":[\"Male\",\"Female\",\"Male\",\"Female\",\"Male\",\"Female\",\"Male\",\"Female\",\"Male\",\"Female\"],\n",
    "    \"address\":[\"123 Main St\",\"456 Park Ave\",\"789 Elm St\",\"321 Oak St\",\"654 Cedar Blvd\",\"987 Pine St\",\"246 Birch Rd\",\"369 Maple Ave\",\"159 Cedar St\",\"753 Oak Ave\"],\n",
    "    \"phone\":[\"555-555-5555\",\"555-555-5556\",\"555-555-5557\",\"555-555-5558\",\"555-555-5559\",\"555-555-5560\",\"555-555-5561\",\"555-555-5562\",\"555-555-5563\",\"555-555-5564\"],\n",
    "    \"email\":[\"john@example.com\",\"emily@example.com\",\"michael@example.com\",\"jessica@example.com\",\"david@example.com\",\"ashley@example.com\",\"jacob@example.com\",\"samantha@example.com\",\"ryan@example.com\",\"amanda@example.com\"],\n",
    "    \"education\":[\"Bachelors\",\"Masters\",\"Bachelors\",\"Masters\",\"Associates\",\"PhD\",\"High School\",\"Bachelors\",\"Masters\",\"Associates\"],\n",
    "    \"employer\":[\"ABC Inc.\",\"XYZ Corp.\",\"ABC Inc.\",\"XYZ Corp.\",\"Acme Co.\",\"ABC Inc.\",\"XYZ Corp.\",\"Acme Co.\",\"ABC Inc.\",\"XYZ Corp.\"],\n",
    "    \"job_title\":[\"Developer\",\"Manager\",\"Analyst\",\"Developer\",\"Manager\",\"Analyst\",\"Developer\",\"Manager\",\"Analyst\",\"Developer\"],\n",
    "    \"salary\":[50000,80000,60000,55000,75000,65000,45000,90000,70000,50000],\n",
    "    \"years_of_experience\":[3,5,4,2,6,3,1,8,5,2],\n",
    "    \"skills\":[\"Python\",\"Java\",\"SQL\",\"C++\",\"JavaScript\",\"C#\",\"Python\",\"Java\",\"SQL\",\"C++\"],\n",
    "    \"certifications\":[\"AWS\",\"PMP\",\"CCNA\",\"MCSA\",\"CCNP\",\"CEH\",\"AWS\",\"PMP\",\"CCNA\",\"MCSA\"],\n",
    "    \"hobbies\":[\"Biking\",\"Hiking\",\"Reading\",\"Traveling\",\"Gardening\",\"Fitness\",\"Photography\",\"Cooking\",\"Painting\",\"Music\"],\n",
    "    \"languages\":[\"English\",\"Spanish\",\"French\",\"German\",\"Mandarin\",\"Italian\",\"Portuguese\",\"Russian\",\"Arabic\",\"Japanese\"],\n",
    "    \"marital_status\":[\"Single\",\"Married\",\"Divorced\",\"Single\",\"Married\",\"Divorced\",\"Single\",\"Married\",\"Divorced\",\"Single\"],\n",
    "    \"children\":[0,2,1,0,3,1,0,1,2,0],\n",
    "    \"pets\":[\"Dog\",\"Cat\",\"Fish\",\"Dog\",\"Cat\",\"Fish\",\"Dog\",\"Cat\",\"Fish\",\"Dog\"]\n",
    "}\n"
   ]
  },
  {
   "cell_type": "code",
   "execution_count": 3,
   "id": "fbf56d2a",
   "metadata": {},
   "outputs": [],
   "source": [
    "df=pd.DataFrame(dict1)"
   ]
  },
  {
   "cell_type": "code",
   "execution_count": 4,
   "id": "ec76229d",
   "metadata": {},
   "outputs": [],
   "source": [
    "df.to_csv(\"family.csv\",index=False)"
   ]
  },
  {
   "cell_type": "code",
   "execution_count": 5,
   "id": "3f8bbaf6",
   "metadata": {},
   "outputs": [],
   "source": [
    "manish=pd.read_csv(\"manish.csv\")"
   ]
  },
  {
   "cell_type": "code",
   "execution_count": 6,
   "id": "f22e271a",
   "metadata": {},
   "outputs": [
    {
     "data": {
      "text/html": [
       "<div>\n",
       "<style scoped>\n",
       "    .dataframe tbody tr th:only-of-type {\n",
       "        vertical-align: middle;\n",
       "    }\n",
       "\n",
       "    .dataframe tbody tr th {\n",
       "        vertical-align: top;\n",
       "    }\n",
       "\n",
       "    .dataframe thead th {\n",
       "        text-align: right;\n",
       "    }\n",
       "</style>\n",
       "<table border=\"1\" class=\"dataframe\">\n",
       "  <thead>\n",
       "    <tr style=\"text-align: right;\">\n",
       "      <th></th>\n",
       "      <th>name</th>\n",
       "      <th>age</th>\n",
       "      <th>gender</th>\n",
       "      <th>address</th>\n",
       "      <th>phone</th>\n",
       "      <th>email</th>\n",
       "    </tr>\n",
       "  </thead>\n",
       "  <tbody>\n",
       "    <tr>\n",
       "      <th>0</th>\n",
       "      <td>John</td>\n",
       "      <td>25</td>\n",
       "      <td>Male</td>\n",
       "      <td>123 Main St</td>\n",
       "      <td>555-555-5555</td>\n",
       "      <td>john@example.com</td>\n",
       "    </tr>\n",
       "    <tr>\n",
       "      <th>1</th>\n",
       "      <td>Emily</td>\n",
       "      <td>32</td>\n",
       "      <td>Female</td>\n",
       "      <td>456 Park Ave</td>\n",
       "      <td>555-555-5556</td>\n",
       "      <td>emily@example.com</td>\n",
       "    </tr>\n",
       "    <tr>\n",
       "      <th>2</th>\n",
       "      <td>Michael</td>\n",
       "      <td>29</td>\n",
       "      <td>Male</td>\n",
       "      <td>789 Elm St</td>\n",
       "      <td>555-555-5557</td>\n",
       "      <td>michael@example.com</td>\n",
       "    </tr>\n",
       "    <tr>\n",
       "      <th>3</th>\n",
       "      <td>Jessica</td>\n",
       "      <td>24</td>\n",
       "      <td>Female</td>\n",
       "      <td>321 Oak St</td>\n",
       "      <td>555-555-5558</td>\n",
       "      <td>jessica@example.com</td>\n",
       "    </tr>\n",
       "    <tr>\n",
       "      <th>4</th>\n",
       "      <td>David</td>\n",
       "      <td>21</td>\n",
       "      <td>Male</td>\n",
       "      <td>654 Cedar Blvd</td>\n",
       "      <td>555-555-5559</td>\n",
       "      <td>david@example.com</td>\n",
       "    </tr>\n",
       "    <tr>\n",
       "      <th>5</th>\n",
       "      <td>Ashley</td>\n",
       "      <td>28</td>\n",
       "      <td>Female</td>\n",
       "      <td>987 Pine St</td>\n",
       "      <td>555-555-5560</td>\n",
       "      <td>ashley@example.com</td>\n",
       "    </tr>\n",
       "    <tr>\n",
       "      <th>6</th>\n",
       "      <td>Jacob</td>\n",
       "      <td>35</td>\n",
       "      <td>Male</td>\n",
       "      <td>246 Birch Rd</td>\n",
       "      <td>555-555-5561</td>\n",
       "      <td>jacob@example.com</td>\n",
       "    </tr>\n",
       "    <tr>\n",
       "      <th>7</th>\n",
       "      <td>Samantha</td>\n",
       "      <td>31</td>\n",
       "      <td>Female</td>\n",
       "      <td>369 Maple Ave</td>\n",
       "      <td>555-555-5562</td>\n",
       "      <td>samantha@example.com</td>\n",
       "    </tr>\n",
       "    <tr>\n",
       "      <th>8</th>\n",
       "      <td>Ryan</td>\n",
       "      <td>27</td>\n",
       "      <td>Male</td>\n",
       "      <td>159 Cedar St</td>\n",
       "      <td>555-555-5563</td>\n",
       "      <td>ryan@example.com</td>\n",
       "    </tr>\n",
       "    <tr>\n",
       "      <th>9</th>\n",
       "      <td>Amanda</td>\n",
       "      <td>26</td>\n",
       "      <td>Female</td>\n",
       "      <td>753 Oak Ave</td>\n",
       "      <td>555-555-5564</td>\n",
       "      <td>amanda@example.com</td>\n",
       "    </tr>\n",
       "  </tbody>\n",
       "</table>\n",
       "</div>"
      ],
      "text/plain": [
       "       name  age  gender         address         phone                 email\n",
       "0      John   25    Male     123 Main St  555-555-5555      john@example.com\n",
       "1     Emily   32  Female    456 Park Ave  555-555-5556     emily@example.com\n",
       "2   Michael   29    Male      789 Elm St  555-555-5557   michael@example.com\n",
       "3   Jessica   24  Female      321 Oak St  555-555-5558   jessica@example.com\n",
       "4     David   21    Male  654 Cedar Blvd  555-555-5559     david@example.com\n",
       "5    Ashley   28  Female     987 Pine St  555-555-5560    ashley@example.com\n",
       "6     Jacob   35    Male    246 Birch Rd  555-555-5561     jacob@example.com\n",
       "7  Samantha   31  Female   369 Maple Ave  555-555-5562  samantha@example.com\n",
       "8      Ryan   27    Male    159 Cedar St  555-555-5563      ryan@example.com\n",
       "9    Amanda   26  Female     753 Oak Ave  555-555-5564    amanda@example.com"
      ]
     },
     "execution_count": 6,
     "metadata": {},
     "output_type": "execute_result"
    }
   ],
   "source": [
    "manish"
   ]
  },
  {
   "cell_type": "code",
   "execution_count": 7,
   "id": "4016d8dc",
   "metadata": {},
   "outputs": [
    {
     "data": {
      "text/plain": [
       "'Female'"
      ]
     },
     "execution_count": 7,
     "metadata": {},
     "output_type": "execute_result"
    }
   ],
   "source": [
    "manish.gender[3]"
   ]
  },
  {
   "cell_type": "code",
   "execution_count": 8,
   "id": "1c123a4b",
   "metadata": {},
   "outputs": [
    {
     "data": {
      "text/html": [
       "<div>\n",
       "<style scoped>\n",
       "    .dataframe tbody tr th:only-of-type {\n",
       "        vertical-align: middle;\n",
       "    }\n",
       "\n",
       "    .dataframe tbody tr th {\n",
       "        vertical-align: top;\n",
       "    }\n",
       "\n",
       "    .dataframe thead th {\n",
       "        text-align: right;\n",
       "    }\n",
       "</style>\n",
       "<table border=\"1\" class=\"dataframe\">\n",
       "  <thead>\n",
       "    <tr style=\"text-align: right;\">\n",
       "      <th></th>\n",
       "      <th>name</th>\n",
       "      <th>age</th>\n",
       "      <th>gender</th>\n",
       "      <th>address</th>\n",
       "      <th>phone</th>\n",
       "      <th>email</th>\n",
       "    </tr>\n",
       "  </thead>\n",
       "  <tbody>\n",
       "    <tr>\n",
       "      <th>8</th>\n",
       "      <td>Ryan</td>\n",
       "      <td>27</td>\n",
       "      <td>Male</td>\n",
       "      <td>159 Cedar St</td>\n",
       "      <td>555-555-5563</td>\n",
       "      <td>ryan@example.com</td>\n",
       "    </tr>\n",
       "  </tbody>\n",
       "</table>\n",
       "</div>"
      ],
      "text/plain": [
       "   name  age gender       address         phone             email\n",
       "8  Ryan   27   Male  159 Cedar St  555-555-5563  ryan@example.com"
      ]
     },
     "execution_count": 8,
     "metadata": {},
     "output_type": "execute_result"
    }
   ],
   "source": [
    "manish[manish.name==\"Ryan\"]"
   ]
  }
 ],
 "metadata": {
  "kernelspec": {
   "display_name": "Python 3 (ipykernel)",
   "language": "python",
   "name": "python3"
  },
  "language_info": {
   "codemirror_mode": {
    "name": "ipython",
    "version": 3
   },
   "file_extension": ".py",
   "mimetype": "text/x-python",
   "name": "python",
   "nbconvert_exporter": "python",
   "pygments_lexer": "ipython3",
   "version": "3.10.6"
  }
 },
 "nbformat": 4,
 "nbformat_minor": 5
}
